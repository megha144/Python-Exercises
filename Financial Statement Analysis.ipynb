{
 "cells": [
  {
   "cell_type": "code",
   "execution_count": 4,
   "metadata": {
    "collapsed": true
   },
   "outputs": [],
   "source": [
    "#Data \n",
    "revenue = [14574.49, 7606.46, 8611.41, 9175.41, 8058.65, 8105.44, 11496.28, 9766.09, 10305.32, 14379.96, 10713.97, 15433.50]\n",
    "expenses = [12051.82, 5695.07, 12319.20, 12089.72, 8658.57, 840.20, 3285.73, 5821.12, 6976.93, 16618.61, 10054.37, 3803.96]"
   ]
  },
  {
   "cell_type": "code",
   "execution_count": 5,
   "metadata": {
    "collapsed": false
   },
   "outputs": [
    {
     "data": {
      "text/plain": [
       "[2522.67,\n",
       " 1911.3900000000003,\n",
       " -3707.790000000001,\n",
       " -2914.3099999999995,\n",
       " -599.9200000000001,\n",
       " 7265.24,\n",
       " 8210.550000000001,\n",
       " 3944.9700000000003,\n",
       " 3328.3899999999994,\n",
       " -2238.6500000000015,\n",
       " 659.5999999999985,\n",
       " 11629.54]"
      ]
     },
     "execution_count": 5,
     "metadata": {},
     "output_type": "execute_result"
    }
   ],
   "source": [
    "#Solution\n",
    "#Calculate Profit As The Differences Between Revenue And Expenses\n",
    "profit = []\n",
    "\n",
    "for i in range(0, len(revenue)):\n",
    "    profit.append(revenue[i] - expenses[i])\n",
    "profit"
   ]
  },
  {
   "cell_type": "code",
   "execution_count": 7,
   "metadata": {
    "collapsed": false
   },
   "outputs": [
    {
     "data": {
      "text/plain": [
       "[75.68,\n",
       " 57.34,\n",
       " -111.23,\n",
       " -87.43,\n",
       " -18.0,\n",
       " 217.96,\n",
       " 246.32,\n",
       " 118.35,\n",
       " 99.85,\n",
       " -67.16,\n",
       " 19.79,\n",
       " 348.89]"
      ]
     },
     "execution_count": 7,
     "metadata": {},
     "output_type": "execute_result"
    }
   ],
   "source": [
    "#Calculate Tax As 30% Of Profit And Round To 2 Decimal Points\n",
    "tax = [round(i * 0.03 , 2) for i in profit]\n",
    "tax\n",
    "\n"
   ]
  },
  {
   "cell_type": "code",
   "execution_count": 10,
   "metadata": {
    "collapsed": false,
    "scrolled": true
   },
   "outputs": [
    {
     "data": {
      "text/plain": [
       "[2446.9900000000002,\n",
       " 1854.0500000000004,\n",
       " -3596.560000000001,\n",
       " -2826.8799999999997,\n",
       " -581.9200000000001,\n",
       " 7047.28,\n",
       " 7964.230000000001,\n",
       " 3826.6200000000003,\n",
       " 3228.5399999999995,\n",
       " -2171.4900000000016,\n",
       " 639.8099999999986,\n",
       " 11280.650000000001]"
      ]
     },
     "execution_count": 10,
     "metadata": {},
     "output_type": "execute_result"
    }
   ],
   "source": [
    "#Calculate Profit Remaining After Tax Is Deducted\n",
    "profit_after_tax = []\n",
    "for i in range (0, len(profit)):\n",
    "    profit_after_tax.append(profit[i] - tax[i])\n",
    "profit_after_tax"
   ]
  },
  {
   "cell_type": "code",
   "execution_count": 11,
   "metadata": {
    "collapsed": false
   },
   "outputs": [
    {
     "data": {
      "text/plain": [
       "[16.79,\n",
       " 24.37,\n",
       " -41.77,\n",
       " -30.81,\n",
       " -7.22,\n",
       " 86.95,\n",
       " 69.28,\n",
       " 39.18,\n",
       " 31.33,\n",
       " -15.1,\n",
       " 5.97,\n",
       " 73.09]"
      ]
     },
     "execution_count": 11,
     "metadata": {},
     "output_type": "execute_result"
    }
   ],
   "source": [
    "#Calculate The Profit Margin As Profit After Tax Over Revenue\n",
    "#Round To 2 Decimal Points, Then Multiply By 100 To Get %\n",
    "profit_margin = []\n",
    "for i in range (0, len(profit)):\n",
    "    profit_margin.append(profit_after_tax[i] / revenue[i])\n",
    "profit_margin\n",
    "\n",
    "profit_margin = [round(i * 100, 2) for i in profit_margin]\n",
    "\n",
    "profit_margin"
   ]
  },
  {
   "cell_type": "code",
   "execution_count": 12,
   "metadata": {
    "collapsed": false
   },
   "outputs": [
    {
     "data": {
      "text/plain": [
       "2425.943333333333"
      ]
     },
     "execution_count": 12,
     "metadata": {},
     "output_type": "execute_result"
    }
   ],
   "source": [
    "#Calculate The Mean Profit After Tax For The 12 Months\n",
    "mean_pat = sum(profit_after_tax) / len(profit_after_tax)\n",
    "mean_pat"
   ]
  },
  {
   "cell_type": "code",
   "execution_count": 14,
   "metadata": {
    "collapsed": false
   },
   "outputs": [
    {
     "data": {
      "text/plain": [
       "[True, False, False, False, False, True, True, True, True, False, False, True]"
      ]
     },
     "execution_count": 14,
     "metadata": {},
     "output_type": "execute_result"
    }
   ],
   "source": [
    "#Find The Months With Above-Mean Profit After Tax\n",
    "good_months = []\n",
    "for i in range (0, len(profit_after_tax)):\n",
    "    good_months.append(profit_after_tax[i] > mean_pat)\n",
    "good_months"
   ]
  },
  {
   "cell_type": "code",
   "execution_count": 15,
   "metadata": {
    "collapsed": false
   },
   "outputs": [
    {
     "data": {
      "text/plain": [
       "[False, True, True, True, True, False, False, False, False, True, True, False]"
      ]
     },
     "execution_count": 15,
     "metadata": {},
     "output_type": "execute_result"
    }
   ],
   "source": [
    "#Bad Months Are The Opposite Of Good Months!\n",
    "bad_months = []\n",
    "for i in range (0, len(good_months)):\n",
    "    bad_months.append(not (good_months[i]))\n",
    "bad_months"
   ]
  },
  {
   "cell_type": "code",
   "execution_count": 16,
   "metadata": {
    "collapsed": false
   },
   "outputs": [
    {
     "data": {
      "text/plain": [
       "[False,\n",
       " False,\n",
       " False,\n",
       " False,\n",
       " False,\n",
       " False,\n",
       " False,\n",
       " False,\n",
       " False,\n",
       " False,\n",
       " False,\n",
       " True]"
      ]
     },
     "execution_count": 16,
     "metadata": {},
     "output_type": "execute_result"
    }
   ],
   "source": [
    "#The Best Month Is Where Profit After Tax Was Equal To The Maximum\n",
    "best_month = []\n",
    "for i in range (0, len(profit_after_tax)):\n",
    "    best_month.append(profit_after_tax[i] == max(profit_after_tax))\n",
    "best_month"
   ]
  },
  {
   "cell_type": "code",
   "execution_count": 17,
   "metadata": {
    "collapsed": false
   },
   "outputs": [
    {
     "data": {
      "text/plain": [
       "[False,\n",
       " False,\n",
       " True,\n",
       " False,\n",
       " False,\n",
       " False,\n",
       " False,\n",
       " False,\n",
       " False,\n",
       " False,\n",
       " False,\n",
       " False]"
      ]
     },
     "execution_count": 17,
     "metadata": {},
     "output_type": "execute_result"
    }
   ],
   "source": [
    "#The Worst Month Is Where Profit After Tax Was Equal To The Minimum\n",
    "worst_month = []\n",
    "for i in range (0, len(profit_after_tax)):\n",
    "    worst_month.append(profit_after_tax[i] == min(profit_after_tax))\n",
    "worst_month"
   ]
  },
  {
   "cell_type": "code",
   "execution_count": 26,
   "metadata": {
    "collapsed": false
   },
   "outputs": [],
   "source": [
    "#Convert All Calculations To Units Of One Thousand Dollars\n",
    "revenue_1000 = [round(i,) for i in revenue]\n",
    "expenses_1000 = [round(i,) for i in expenses]\n",
    "profit_1000 = [round(i,) for i in profit]\n",
    "profit_after_tax_1000 = [round(i, 0) for i in profit_after_tax]\n",
    "\n",
    "revenue_1000 = [int(i) for i in revenue]\n",
    "expenses_1000 = [int(i) for i in expenses]\n",
    "profit_1000 = [int(i) for i in profit]\n",
    "profit_after_tax_1000 = [int(i) for i in profit_after_tax]"
   ]
  },
  {
   "cell_type": "code",
   "execution_count": 27,
   "metadata": {
    "collapsed": false
   },
   "outputs": [
    {
     "name": "stdout",
     "output_type": "stream",
     "text": [
      "Revenue :\n",
      "[14574, 7606, 8611, 9175, 8058, 8105, 11496, 9766, 10305, 14379, 10713, 15433]\n",
      "Expenses :\n",
      "[12051, 5695, 12319, 12089, 8658, 840, 3285, 5821, 6976, 16618, 10054, 3803]\n",
      "Profit :\n",
      "[2522, 1911, -3707, -2914, -599, 7265, 8210, 3944, 3328, -2238, 659, 11629]\n",
      "Profit after tax :\n",
      "[2446, 1854, -3596, -2826, -581, 7047, 7964, 3826, 3228, -2171, 639, 11280]\n",
      "Profit margin :\n",
      "[16.79, 24.37, -41.77, -30.81, -7.22, 86.95, 69.28, 39.18, 31.33, -15.1, 5.97, 73.09]\n",
      "Good months :\n",
      "[True, False, False, False, False, True, True, True, True, False, False, True]\n",
      "Bad months :\n",
      "[False, True, True, True, True, False, False, False, False, True, True, False]\n",
      "Best month :\n",
      "[False, False, False, False, False, False, False, False, False, False, False, True]\n",
      "Worst month :\n",
      "[False, False, True, False, False, False, False, False, False, False, False, False]\n"
     ]
    }
   ],
   "source": [
    "#Print Results\n",
    "print (\"Revenue :\") \n",
    "print (revenue_1000)\n",
    "print (\"Expenses :\") \n",
    "print (expenses_1000)\n",
    "print (\"Profit :\")\n",
    "print(profit_1000)\n",
    "print (\"Profit after tax :\")\n",
    "print (profit_after_tax_1000)\n",
    "print (\"Profit margin :\")\n",
    "print (profit_margin)\n",
    "print (\"Good months :\")\n",
    "print (good_months)\n",
    "print (\"Bad months :\")\n",
    "print (bad_months)\n",
    "print (\"Best month :\")\n",
    "print (best_month)\n",
    "print (\"Worst month :\")\n",
    "print (worst_month)"
   ]
  },
  {
   "cell_type": "code",
   "execution_count": null,
   "metadata": {
    "collapsed": true
   },
   "outputs": [],
   "source": []
  }
 ],
 "metadata": {
  "anaconda-cloud": {},
  "kernelspec": {
   "display_name": "Python [conda root]",
   "language": "python",
   "name": "conda-root-py"
  },
  "language_info": {
   "codemirror_mode": {
    "name": "ipython",
    "version": 3
   },
   "file_extension": ".py",
   "mimetype": "text/x-python",
   "name": "python",
   "nbconvert_exporter": "python",
   "pygments_lexer": "ipython3",
   "version": "3.5.2"
  }
 },
 "nbformat": 4,
 "nbformat_minor": 1
}
